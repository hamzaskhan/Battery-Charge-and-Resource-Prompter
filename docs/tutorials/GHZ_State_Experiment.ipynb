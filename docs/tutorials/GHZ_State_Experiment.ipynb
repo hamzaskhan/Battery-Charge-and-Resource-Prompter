{
  "cells": [
    {
      "cell_type": "markdown",
      "metadata": {
        "id": "view-in-github",
        "colab_type": "text"
      },
      "source": [
        "<a href=\"https://colab.research.google.com/github/hamzaskhan/Battery-Charge-and-Resource-Prompter/blob/main/docs/tutorials/GHZ_State_Experiment.ipynb\" target=\"_parent\"><img src=\"https://colab.research.google.com/assets/colab-badge.svg\" alt=\"Open In Colab\"/></a>"
      ]
    },
    {
      "cell_type": "markdown",
      "metadata": {
        "id": "8M2lhf2RBGZj"
      },
      "source": [
        "##### Copyright 2020 Google"
      ]
    },
    {
      "cell_type": "code",
      "execution_count": null,
      "metadata": {
        "cellView": "form",
        "id": "FMqHt2UBBJzR"
      },
      "outputs": [],
      "source": [
        "#@title Licensed under the Apache License, Version 2.0 (the \"License\");\n",
        "# you may not use this file except in compliance with the License.\n",
        "# You may obtain a copy of the License at\n",
        "#\n",
        "# https://www.apache.org/licenses/LICENSE-2.0\n",
        "#\n",
        "# Unless required by applicable law or agreed to in writing, software\n",
        "# distributed under the License is distributed on an \"AS IS\" BASIS,\n",
        "# WITHOUT WARRANTIES OR CONDITIONS OF ANY KIND, either express or implied.\n",
        "# See the License for the specific language governing permissions and\n",
        "# limitations under the License."
      ]
    },
    {
      "cell_type": "markdown",
      "metadata": {
        "id": "vAx5g2rPnlzt"
      },
      "source": [
        "# Get started with qsimcirq"
      ]
    },
    {
      "cell_type": "markdown",
      "metadata": {
        "id": "5jqw8k0zBsb-"
      },
      "source": [
        "<table class=\"tfo-notebook-buttons\" align=\"left\">\n",
        "  <td>\n",
        "    <a target=\"_blank\" href=\"https://quantumai.google/qsim/tutorials/qsimcirq\"><img src=\"https://quantumai.google/site-assets/images/buttons/quantumai_logo_1x.png\" />View on QuantumAI</a>\n",
        "  </td>\n",
        "  <td>\n",
        "    <a target=\"_blank\" href=\"https://colab.research.google.com/github/quantumlib/qsim/blob/master/docs/tutorials/qsimcirq.ipynb\"><img src=\"https://quantumai.google/site-assets/images/buttons/colab_logo_1x.png\" />Run in Google Colab</a>\n",
        "  </td>\n",
        "  <td>\n",
        "    <a target=\"_blank\" href=\"https://github.com/quantumlib/qsim/blob/master/docs/tutorials/qsimcirq.ipynb\"><img src=\"https://quantumai.google/site-assets/images/buttons/github_logo_1x.png\" />View source on GitHub</a>\n",
        "  </td>\n",
        "  <td>\n",
        "    <a href=\"https://storage.googleapis.com/tensorflow_docs/qsim/docs/tutorials/qsimcirq.ipynb\"><img src=\"https://quantumai.google/site-assets/images/buttons/download_icon_1x.png\" />Download notebook</a>\n",
        "  </td>\n",
        "</table>"
      ]
    },
    {
      "cell_type": "markdown",
      "metadata": {
        "id": "VgdpPfgTCjQB"
      },
      "source": [
        "The qsim library provides a Python interface to Cirq in the **qsimcirq** PyPI package."
      ]
    },
    {
      "cell_type": "markdown",
      "metadata": {
        "id": "8vr-44j-Csxf"
      },
      "source": [
        "## Setup\n",
        "\n",
        "Install the Cirq and qsimcirq packages:"
      ]
    },
    {
      "cell_type": "code",
      "execution_count": 1,
      "metadata": {
        "id": "XcAhsIQdivnp",
        "outputId": "6e9cde17-65bf-4464-e3aa-5d8437524c6b",
        "colab": {
          "base_uri": "https://localhost:8080/"
        }
      },
      "outputs": [
        {
          "output_type": "stream",
          "name": "stdout",
          "text": [
            "\u001b[?25l     \u001b[90m━━━━━━━━━━━━━━━━━━━━━━━━━━━━━━━━━━━━━━━━\u001b[0m \u001b[32m0.0/45.6 kB\u001b[0m \u001b[31m?\u001b[0m eta \u001b[36m-:--:--\u001b[0m\r\u001b[2K     \u001b[90m━━━━━━━━━━━━━━━━━━━━━━━━━━━━━━━━━━━━━━━━\u001b[0m \u001b[32m45.6/45.6 kB\u001b[0m \u001b[31m1.8 MB/s\u001b[0m eta \u001b[36m0:00:00\u001b[0m\n",
            "\u001b[?25h  Preparing metadata (setup.py) ... \u001b[?25l\u001b[?25hdone\n",
            "\u001b[2K   \u001b[90m━━━━━━━━━━━━━━━━━━━━━━━━━━━━━━━━━━━━━━━━\u001b[0m \u001b[32m1.9/1.9 MB\u001b[0m \u001b[31m26.0 MB/s\u001b[0m eta \u001b[36m0:00:00\u001b[0m\n",
            "\u001b[2K   \u001b[90m━━━━━━━━━━━━━━━━━━━━━━━━━━━━━━━━━━━━━━━━\u001b[0m \u001b[32m532.7/532.7 kB\u001b[0m \u001b[31m32.1 MB/s\u001b[0m eta \u001b[36m0:00:00\u001b[0m\n",
            "\u001b[2K   \u001b[90m━━━━━━━━━━━━━━━━━━━━━━━━━━━━━━━━━━━━━━━━\u001b[0m \u001b[32m60.5/60.5 kB\u001b[0m \u001b[31m4.2 MB/s\u001b[0m eta \u001b[36m0:00:00\u001b[0m\n",
            "\u001b[2K   \u001b[90m━━━━━━━━━━━━━━━━━━━━━━━━━━━━━━━━━━━━━━━━\u001b[0m \u001b[32m69.3/69.3 kB\u001b[0m \u001b[31m6.0 MB/s\u001b[0m eta \u001b[36m0:00:00\u001b[0m\n",
            "\u001b[2K   \u001b[90m━━━━━━━━━━━━━━━━━━━━━━━━━━━━━━━━━━━━━━━━\u001b[0m \u001b[32m596.5/596.5 kB\u001b[0m \u001b[31m36.4 MB/s\u001b[0m eta \u001b[36m0:00:00\u001b[0m\n",
            "\u001b[2K   \u001b[90m━━━━━━━━━━━━━━━━━━━━━━━━━━━━━━━━━━━━━━━━\u001b[0m \u001b[32m202.8/202.8 kB\u001b[0m \u001b[31m16.0 MB/s\u001b[0m eta \u001b[36m0:00:00\u001b[0m\n",
            "\u001b[2K   \u001b[90m━━━━━━━━━━━━━━━━━━━━━━━━━━━━━━━━━━━━━━━━\u001b[0m \u001b[32m53.0/53.0 kB\u001b[0m \u001b[31m4.2 MB/s\u001b[0m eta \u001b[36m0:00:00\u001b[0m\n",
            "\u001b[2K   \u001b[90m━━━━━━━━━━━━━━━━━━━━━━━━━━━━━━━━━━━━━━━━\u001b[0m \u001b[32m7.0/7.0 MB\u001b[0m \u001b[31m83.9 MB/s\u001b[0m eta \u001b[36m0:00:00\u001b[0m\n",
            "\u001b[2K   \u001b[90m━━━━━━━━━━━━━━━━━━━━━━━━━━━━━━━━━━━━━━━━\u001b[0m \u001b[32m2.2/2.2 MB\u001b[0m \u001b[31m61.8 MB/s\u001b[0m eta \u001b[36m0:00:00\u001b[0m\n",
            "\u001b[2K   \u001b[90m━━━━━━━━━━━━━━━━━━━━━━━━━━━━━━━━━━━━━━━━\u001b[0m \u001b[32m2.9/2.9 MB\u001b[0m \u001b[31m77.5 MB/s\u001b[0m eta \u001b[36m0:00:00\u001b[0m\n",
            "\u001b[2K   \u001b[90m━━━━━━━━━━━━━━━━━━━━━━━━━━━━━━━━━━━━━━━━\u001b[0m \u001b[32m1.7/1.7 MB\u001b[0m \u001b[31m50.1 MB/s\u001b[0m eta \u001b[36m0:00:00\u001b[0m\n",
            "\u001b[2K   \u001b[90m━━━━━━━━━━━━━━━━━━━━━━━━━━━━━━━━━━━━━━━━\u001b[0m \u001b[32m117.8/117.8 kB\u001b[0m \u001b[31m9.5 MB/s\u001b[0m eta \u001b[36m0:00:00\u001b[0m\n",
            "\u001b[2K   \u001b[90m━━━━━━━━━━━━━━━━━━━━━━━━━━━━━━━━━━━━━━━━\u001b[0m \u001b[32m722.2/722.2 kB\u001b[0m \u001b[31m32.0 MB/s\u001b[0m eta \u001b[36m0:00:00\u001b[0m\n",
            "\u001b[?25h  Building wheel for rpcq (setup.py) ... \u001b[?25l\u001b[?25hdone\n",
            "\u001b[2K   \u001b[90m━━━━━━━━━━━━━━━━━━━━━━━━━━━━━━━━━━━━━━━━\u001b[0m \u001b[32m1.6/1.6 MB\u001b[0m \u001b[31m16.1 MB/s\u001b[0m eta \u001b[36m0:00:00\u001b[0m\n",
            "\u001b[2K   \u001b[90m━━━━━━━━━━━━━━━━━━━━━━━━━━━━━━━━━━━━━━━━\u001b[0m \u001b[32m243.3/243.3 kB\u001b[0m \u001b[31m16.9 MB/s\u001b[0m eta \u001b[36m0:00:00\u001b[0m\n",
            "\u001b[?25h"
          ]
        }
      ],
      "source": [
        "try:\n",
        "    import cirq\n",
        "except ImportError:\n",
        "    !pip install cirq --quiet\n",
        "    import cirq\n",
        "\n",
        "try:\n",
        "    import qsimcirq\n",
        "except ImportError:\n",
        "    !pip install qsimcirq --quiet\n",
        "    import qsimcirq"
      ]
    },
    {
      "cell_type": "markdown",
      "metadata": {
        "id": "7lYC4qxpDKMN"
      },
      "source": [
        "Simulating Cirq circuits with qsim is easy: just define the circuit as you normally would, then create a `QSimSimulator` to perform the simulation. This object implements Cirq's [simulator.py](https://github.com/quantumlib/Cirq/blob/master/cirq-core/cirq/sim/simulator.py) interfaces, so you can drop it in anywhere the basic Cirq simulator is used."
      ]
    },
    {
      "cell_type": "markdown",
      "metadata": {
        "id": "FXytmQlBoeTT"
      },
      "source": [
        "## Full state-vector simulation\n",
        "\n",
        "qsim is optimized for computing the final state vector of a circuit. Try it by running the example below."
      ]
    },
    {
      "cell_type": "code",
      "execution_count": 12,
      "metadata": {
        "id": "jd8DaJMbjkCM",
        "outputId": "8e29096b-5fad-4e1d-de51-d4e9eb855c70",
        "colab": {
          "base_uri": "https://localhost:8080/",
          "height": 736
        }
      },
      "outputs": [
        {
          "output_type": "stream",
          "name": "stdout",
          "text": [
            "0: ───H───@───Z───────────M('measurement')───\n",
            "          │               │\n",
            "1: ───────X───@───Y───────M──────────────────\n",
            "              │           │\n",
            "2: ───────────X───×───────M──────────────────\n",
            "                  │       │\n",
            "3: ───H───@───────×───X───M──────────────────\n",
            "          │               │\n",
            "4: ───────X───────────────M──────────────────\n"
          ]
        },
        {
          "output_type": "display_data",
          "data": {
            "text/plain": [
              "<Figure size 1000x600 with 1 Axes>"
            ],
            "image/png": "[encoded data removed]"
          },
          "metadata": {}
        }
      ],
      "source": [
        "import cirq\n",
        "import numpy as np\n",
        "import matplotlib.pyplot as plt\n",
        "from collections import Counter\n",
        "\n",
        "# Define a function to simulate limited chaotic interactions\n",
        "def apply_limited_chaotic_gate(circuit, qubit, entropy_level):\n",
        "    \"\"\"Apply random gates to simulate controlled chaotic behavior.\"\"\"\n",
        "    if np.random.rand() < entropy_level:\n",
        "        gate_choice = np.random.choice([cirq.X, cirq.Y, cirq.Z])\n",
        "        circuit.append(gate_choice(qubit))\n",
        "\n",
        "# Modified function for reduced chaos in cross-domain entanglement\n",
        "def entangle_cross_domains_with_limited_chaos(num_qubits_A=3, num_qubits_B=2, entropy_level=0.2):\n",
        "    total_qubits = num_qubits_A + num_qubits_B\n",
        "    qubits = [cirq.LineQubit(i) for i in range(total_qubits)]\n",
        "    circuit = cirq.Circuit()\n",
        "\n",
        "    # Apply Hadamard gate to the first qubit of each domain\n",
        "    circuit.append(cirq.H(qubits[0]))  # A_1\n",
        "    circuit.append(cirq.H(qubits[num_qubits_A]))  # B_1\n",
        "\n",
        "    # Entangling within each subspace\n",
        "    for i in range(num_qubits_A - 1):\n",
        "        circuit.append(cirq.CX(qubits[i], qubits[i + 1]))\n",
        "        apply_limited_chaotic_gate(circuit, qubits[i], entropy_level)\n",
        "\n",
        "    for i in range(num_qubits_B - 1):\n",
        "        circuit.append(cirq.CX(qubits[num_qubits_A + i], qubits[num_qubits_A + i + 1]))\n",
        "        apply_limited_chaotic_gate(circuit, qubits[num_qubits_A + i], entropy_level)\n",
        "\n",
        "    # Cross-domain entanglement with limited chaos\n",
        "    circuit.append(cirq.SWAP(qubits[num_qubits_A - 1], qubits[num_qubits_A]))\n",
        "    apply_limited_chaotic_gate(circuit, qubits[num_qubits_A - 1], entropy_level)\n",
        "    apply_limited_chaotic_gate(circuit, qubits[num_qubits_A], entropy_level)\n",
        "\n",
        "    # Measure all qubits\n",
        "    circuit.append(cirq.measure(*qubits, key='measurement'))\n",
        "\n",
        "    return circuit\n",
        "\n",
        "# Function to execute the quantum circuit and plot results\n",
        "def run_and_plot_limited_chaos_circuit(circuit, num_shots=1024):\n",
        "    simulator = cirq.Simulator()\n",
        "    result = simulator.run(circuit, repetitions=num_shots)\n",
        "    counts = result.histogram(key='measurement')\n",
        "    plot_measurements(counts)\n",
        "\n",
        "# Plotting function\n",
        "def plot_measurements(counts):\n",
        "    plt.figure(figsize=(10, 6))\n",
        "    plt.bar(counts.keys(), counts.values(), color='midnightblue')\n",
        "    plt.xlabel('Measurement Outcome (Bit String)', fontsize=14)\n",
        "    plt.ylabel('Frequency', fontsize=14)\n",
        "    plt.title('Reduced Chaos in Cross-Domain Entanglement', fontsize=16)\n",
        "    plt.xticks(rotation=45)\n",
        "    plt.show()\n",
        "\n",
        "# Main Execution\n",
        "if __name__ == \"__main__\":\n",
        "    num_qubits_A = 3\n",
        "    num_qubits_B = 2\n",
        "    entropy_level = 0.2  # Lower entropy level to reduce randomness\n",
        "\n",
        "    # Create circuit with limited chaos\n",
        "    circuit = entangle_cross_domains_with_limited_chaos(num_qubits_A, num_qubits_B, entropy_level)\n",
        "\n",
        "    # Print circuit for reference\n",
        "    print(circuit)\n",
        "\n",
        "    # Run and plot the results\n",
        "    run_and_plot_limited_chaos_circuit(circuit)\n"
      ]
    },
    {
      "cell_type": "markdown",
      "metadata": {
        "id": "-kyXlKujtZcp"
      },
      "source": [
        "To sample from this state, you can invoke Cirq's `sample_state_vector` method:"
      ]
    },
    {
      "cell_type": "code",
      "execution_count": null,
      "metadata": {
        "id": "-m6uzQ6ms9I7"
      },
      "outputs": [],
      "source": [
        "samples = cirq.sample_state_vector(\n",
        "    qsim_results.state_vector(), indices=[0, 1], repetitions=10)\n",
        "print(samples)"
      ]
    },
    {
      "cell_type": "markdown",
      "metadata": {
        "id": "pOhybi46sHwI"
      },
      "source": [
        "## Measurement sampling\n",
        "\n",
        "qsim also supports sampling from user-defined measurement gates.\n",
        "\n",
        "> *Note*: Since qsim and Cirq use different random number generators, identical runs on both simulators may give different results, even if they use the same seed."
      ]
    },
    {
      "cell_type": "code",
      "execution_count": null,
      "metadata": {
        "id": "NRJvtqYrnylJ"
      },
      "outputs": [],
      "source": [
        "# Define a circuit with measurements.\n",
        "q0, q1 = cirq.LineQubit.range(2)\n",
        "circuit = cirq.Circuit(\n",
        "    cirq.H(q0), cirq.X(q1), cirq.CX(q0, q1),\n",
        "    cirq.measure(q0, key='qubit_0'),\n",
        "    cirq.measure(q1, key='qubit_1'),\n",
        ")\n",
        "print(\"Circuit:\")\n",
        "print(circuit)\n",
        "print()\n",
        "\n",
        "# Simulate the circuit with Cirq and return just the measurement values.\n",
        "print('Cirq results:')\n",
        "cirq_simulator = cirq.Simulator()\n",
        "cirq_results = cirq_simulator.run(circuit, repetitions=5)\n",
        "print(cirq_results)\n",
        "print()\n",
        "\n",
        "# Simulate the circuit with qsim and return just the measurement values.\n",
        "print('qsim results:')\n",
        "qsim_simulator = qsimcirq.QSimSimulator()\n",
        "qsim_results = qsim_simulator.run(circuit, repetitions=5)\n",
        "print(qsim_results)"
      ]
    },
    {
      "cell_type": "markdown",
      "metadata": {
        "id": "6NoSr0E_wgR_"
      },
      "source": [
        "The warning above highlights an important distinction between the `simulate` and `run` methods:\n",
        "\n",
        "* `simulate` only executes the circuit once.\n",
        "  -  Sampling from the resulting state is fast, but if there are intermediate measurements the final state vector depends on the results of those measurements.\n",
        "* `run` will execute the circuit once for each repetition requested.\n",
        "  -  As a result, sampling is much slower, but intermediate measurements are re-sampled for each repetition. If there are no intermediate measurements, `run` redirects to `simulate` for faster execution.\n",
        "\n",
        "The warning goes away if intermediate measurements are present:"
      ]
    },
    {
      "cell_type": "code",
      "execution_count": null,
      "metadata": {
        "id": "hFrwYjWM0Hpa"
      },
      "outputs": [],
      "source": [
        "# Define a circuit with intermediate measurements.\n",
        "q0 = cirq.LineQubit(0)\n",
        "circuit = cirq.Circuit(\n",
        "    cirq.X(q0)**0.5, cirq.measure(q0, key='m0'),\n",
        "    cirq.X(q0)**0.5, cirq.measure(q0, key='m1'),\n",
        "    cirq.X(q0)**0.5, cirq.measure(q0, key='m2'),\n",
        ")\n",
        "print(\"Circuit:\")\n",
        "print(circuit)\n",
        "print()\n",
        "\n",
        "# Simulate the circuit with qsim and return just the measurement values.\n",
        "print('qsim results:')\n",
        "qsim_simulator = qsimcirq.QSimSimulator()\n",
        "qsim_results = qsim_simulator.run(circuit, repetitions=5)\n",
        "print(qsim_results)"
      ]
    },
    {
      "cell_type": "markdown",
      "metadata": {
        "id": "KhPHBKpi0lYE"
      },
      "source": [
        "## Amplitude evaluation\n",
        "\n",
        "qsim can also calculate amplitudes for specific output bitstrings."
      ]
    },
    {
      "cell_type": "code",
      "execution_count": null,
      "metadata": {
        "id": "aCbvXO6M1jWB"
      },
      "outputs": [],
      "source": [
        "# Define a simple circuit.\n",
        "q0, q1 = cirq.LineQubit.range(2)\n",
        "circuit = cirq.Circuit(cirq.H(q0), cirq.CX(q0, q1))\n",
        "print(\"Circuit:\")\n",
        "print(circuit)\n",
        "print()\n",
        "\n",
        "# Simulate the circuit with qsim and return the amplitudes for |00) and |01).\n",
        "print('Cirq results:')\n",
        "cirq_simulator = cirq.Simulator()\n",
        "cirq_results = cirq_simulator.compute_amplitudes(\n",
        "    circuit, bitstrings=[0b00, 0b01])\n",
        "print(cirq_results)\n",
        "print()\n",
        "\n",
        "# Simulate the circuit with qsim and return the amplitudes for |00) and |01).\n",
        "print('qsim results:')\n",
        "qsim_simulator = qsimcirq.QSimSimulator()\n",
        "qsim_results = qsim_simulator.compute_amplitudes(\n",
        "    circuit, bitstrings=[0b00, 0b01])\n",
        "print(qsim_results)"
      ]
    },
    {
      "cell_type": "markdown",
      "metadata": {
        "id": "zy5XRdkm219l"
      },
      "source": [
        "## Performance benchmark\n",
        "\n",
        "The code below generates a depth-16 circuit on a 4x5 qubit grid, then runs it against the basic Cirq simulator. For a circuit of this size, the difference in runtime can be significant - try it out!"
      ]
    },
    {
      "cell_type": "code",
      "execution_count": null,
      "metadata": {
        "id": "SyRpm08R3qCy"
      },
      "outputs": [],
      "source": [
        "import time\n",
        "\n",
        "# Get a rectangular grid of qubits.\n",
        "qubits = cirq.GridQubit.rect(4, 5)\n",
        "\n",
        "# Generates a random circuit on the provided qubits.\n",
        "circuit = cirq.experiments.random_rotations_between_grid_interaction_layers_circuit(\n",
        "    qubits=qubits, depth=16)\n",
        "\n",
        "# Simulate the circuit with Cirq and print the runtime.\n",
        "cirq_simulator = cirq.Simulator()\n",
        "cirq_start = time.time()\n",
        "cirq_results = cirq_simulator.simulate(circuit)\n",
        "cirq_elapsed = time.time() - cirq_start\n",
        "print(f'Cirq runtime: {cirq_elapsed} seconds.')\n",
        "print()\n",
        "\n",
        "# Simulate the circuit with qsim and print the runtime.\n",
        "qsim_simulator = qsimcirq.QSimSimulator()\n",
        "qsim_start = time.time()\n",
        "qsim_results = qsim_simulator.simulate(circuit)\n",
        "qsim_elapsed = time.time() - qsim_start\n",
        "print(f'qsim runtime: {qsim_elapsed} seconds.')"
      ]
    },
    {
      "cell_type": "markdown",
      "metadata": {
        "id": "OUjhKoRVZGKZ"
      },
      "source": [
        "qsim performance can be tuned further by passing options to the simulator constructor. These options use the same format as the qsim_base binary - a full description can be found in the qsim [usage doc](https://github.com/quantumlib/qsim/blob/master/docs/usage.md). The example below demonstrates enabling multithreading in qsim; for best performance, use the same number of threads as the number of cores (or virtual cores) on your machine."
      ]
    },
    {
      "cell_type": "code",
      "execution_count": null,
      "metadata": {
        "id": "yE6ZXAKzZL5P"
      },
      "outputs": [],
      "source": [
        "# Use eight threads to parallelize simulation.\n",
        "options = {'t': 8}\n",
        "\n",
        "qsim_simulator = qsimcirq.QSimSimulator(options)\n",
        "qsim_start = time.time()\n",
        "qsim_results = qsim_simulator.simulate(circuit)\n",
        "qsim_elapsed = time.time() - qsim_start\n",
        "print(f'qsim runtime: {qsim_elapsed} seconds.')"
      ]
    },
    {
      "cell_type": "markdown",
      "metadata": {
        "id": "HVkTbqfH4zls"
      },
      "source": [
        "Another option is to adjust the maximum number of qubits over which to fuse gates. Increasing this value (as demonstrated below) increases arithmetic intensity, which may improve performance with the right environment settings."
      ]
    },
    {
      "cell_type": "code",
      "metadata": {
        "id": "kkQ5ARpI5phJ"
      },
      "source": [
        "# Increase maximum fused gate size to three qubits.\n",
        "options = {'f': 3}\n",
        "\n",
        "qsim_simulator = qsimcirq.QSimSimulator(options)\n",
        "qsim_start = time.time()\n",
        "qsim_results = qsim_simulator.simulate(circuit)\n",
        "qsim_elapsed = time.time() - qsim_start\n",
        "print(f'qsim runtime: {qsim_elapsed} seconds.')"
      ],
      "execution_count": null,
      "outputs": []
    },
    {
      "cell_type": "markdown",
      "metadata": {
        "id": "LgWOEMLKutsq"
      },
      "source": [
        "## Advanced applications: Distributed execution\n",
        "\n",
        "qsimh (qsim-hybrid) is a second library in the qsim repository that takes a slightly different approach to circuit simulation. When simulating a quantum circuit, it's possible to simplify the execution by decomposing a subset of two-qubit gates into pairs of one-qubit gates with shared indices. This operation is called \"slicing\" (or \"cutting\") the gates.\n",
        "\n",
        "qsimh takes advantage of the \"slicing\" operation by selecting a set of gates to \"slice\" and assigning each possible value of the shared indices across a set of executors running in parallel. By adding up the results afterwards, the total state can be recovered."
      ]
    },
    {
      "cell_type": "code",
      "execution_count": null,
      "metadata": {
        "id": "t3OkT3FKuuhp"
      },
      "outputs": [],
      "source": [
        "# Pick a pair of qubits.\n",
        "q0 = cirq.GridQubit(0, 0)\n",
        "q1 = cirq.GridQubit(0, 1)\n",
        "\n",
        "# Create a circuit that entangles the pair.\n",
        "circuit = cirq.Circuit(\n",
        "    cirq.H(q0), cirq.CX(q0, q1), cirq.X(q1)\n",
        ")\n",
        "print(\"Circuit:\")\n",
        "print(circuit)"
      ]
    },
    {
      "cell_type": "markdown",
      "metadata": {
        "id": "KUAwCOGeu0wA"
      },
      "source": [
        "In order to let qsimh know how we want to split up the circuit, we need to pass it some additional options. More detail on these can be found in the qsim [usage doc](https://github.com/quantumlib/qsim/blob/master/docs/usage.md), but the fundamentals are explained below."
      ]
    },
    {
      "cell_type": "code",
      "execution_count": null,
      "metadata": {
        "id": "VXc-A8e7u262"
      },
      "outputs": [],
      "source": [
        "options = {}\n",
        "\n",
        "# 'k' indicates the qubits on one side of the cut.\n",
        "# We'll use qubit 0 for this.\n",
        "options['k'] = [0]\n",
        "\n",
        "# 'p' and 'r' control when values are assigned to cut indices.\n",
        "# There are some intricacies in choosing values for these options,\n",
        "# but for now we'll set p=1 and r=0.\n",
        "# This allows us to pre-assign the value of the CX indices\n",
        "# and distribute its execution to multiple jobs.\n",
        "options['p'] = 1\n",
        "options['r'] = 0\n",
        "\n",
        "# 'w' indicates the value pre-assigned to the cut.\n",
        "# This should change for each execution.\n",
        "options['w'] = 0\n",
        "\n",
        "# Create the qsimh simulator with those options.\n",
        "qsimh_simulator = qsimcirq.QSimhSimulator(options)\n",
        "results_0 = qsimh_simulator.compute_amplitudes(\n",
        "    circuit, bitstrings=[0b00, 0b01, 0b10, 0b11])\n",
        "print(results_0)"
      ]
    },
    {
      "cell_type": "markdown",
      "metadata": {
        "id": "eij3DsN4u5Om"
      },
      "source": [
        "Now to run the other side of the cut..."
      ]
    },
    {
      "cell_type": "code",
      "execution_count": null,
      "metadata": {
        "id": "py6I1omau6Gk"
      },
      "outputs": [],
      "source": [
        "options['w'] = 1\n",
        "\n",
        "qsimh_simulator = qsimcirq.QSimhSimulator(options)\n",
        "results_1 = qsimh_simulator.compute_amplitudes(\n",
        "    circuit, bitstrings=[0b00, 0b01, 0b10, 0b11])\n",
        "print(results_1)"
      ]
    },
    {
      "cell_type": "markdown",
      "metadata": {
        "id": "wnjmLDedu7j4"
      },
      "source": [
        "...and add the two together. The results of a normal qsim simulation are shown for comparison."
      ]
    },
    {
      "cell_type": "code",
      "execution_count": null,
      "metadata": {
        "id": "YQoyZ6ldu7--"
      },
      "outputs": [],
      "source": [
        "results = [r0 + r1 for r0, r1 in zip(results_0, results_1)]\n",
        "print(\"qsimh results:\")\n",
        "print(results)\n",
        "\n",
        "qsim_simulator = qsimcirq.QSimSimulator()\n",
        "qsim_simulator.compute_amplitudes(circuit, bitstrings=[0b00, 0b01, 0b10, 0b11])\n",
        "print(\"qsim results:\")\n",
        "print(results)"
      ]
    },
    {
      "cell_type": "markdown",
      "metadata": {
        "id": "o11JcJJ8vEfW"
      },
      "source": [
        "The key point to note here is that `results_0` and `results_1` are completely independent - they can be run in parallel on two separate machines, with no communication between the two. Getting the full result requires `2^p` executions, but each individual result is much cheaper to calculate than trying to do the whole circuit at once."
      ]
    }
  ],
  "metadata": {
    "colab": {
      "name": "qsimcirq.ipynb",
      "provenance": [],
      "include_colab_link": true
    },
    "kernelspec": {
      "display_name": "Python 3",
      "name": "python3"
    }
  },
  "nbformat": 4,
  "nbformat_minor": 0
}